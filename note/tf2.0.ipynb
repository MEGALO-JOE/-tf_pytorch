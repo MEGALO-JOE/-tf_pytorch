{
 "cells": [
  {
   "cell_type": "code",
   "execution_count": 1,
   "metadata": {
    "ExecuteTime": {
     "end_time": "2020-11-09T07:59:45.317134Z",
     "start_time": "2020-11-09T07:59:41.681672Z"
    }
   },
   "outputs": [],
   "source": [
    "import tensorflow as tf"
   ]
  },
  {
   "cell_type": "code",
   "execution_count": 2,
   "metadata": {
    "ExecuteTime": {
     "end_time": "2020-11-09T08:00:01.817767Z",
     "start_time": "2020-11-09T08:00:01.804388Z"
    }
   },
   "outputs": [
    {
     "data": {
      "text/plain": [
       "'2.3.1'"
      ]
     },
     "execution_count": 2,
     "metadata": {},
     "output_type": "execute_result"
    }
   ],
   "source": [
    "tf.__version__"
   ]
  },
  {
   "cell_type": "markdown",
   "metadata": {},
   "source": [
    "# 张量"
   ]
  },
  {
   "cell_type": "code",
   "execution_count": 24,
   "metadata": {
    "ExecuteTime": {
     "end_time": "2020-11-09T08:23:54.038304Z",
     "start_time": "2020-11-09T08:23:54.031531Z"
    }
   },
   "outputs": [
    {
     "data": {
      "text/plain": [
       "TensorShape([])"
      ]
     },
     "execution_count": 24,
     "metadata": {},
     "output_type": "execute_result"
    }
   ],
   "source": [
    "a = tf.constant(2, name='a', dtype=tf.uint8) #help(tf.constant)\n",
    "b = tf.constant(3, name='b', dtype=tf.uint8) #help(tf.constant)\n",
    "a.numpy() #取值\n",
    "a.shape\n",
    "a.get_shape()"
   ]
  },
  {
   "cell_type": "code",
   "execution_count": 9,
   "metadata": {
    "ExecuteTime": {
     "end_time": "2020-11-09T08:10:11.287345Z",
     "start_time": "2020-11-09T08:10:11.278948Z"
    }
   },
   "outputs": [
    {
     "data": {
      "text/plain": [
       "<tf.Tensor: shape=(), dtype=uint8, numpy=5>"
      ]
     },
     "execution_count": 9,
     "metadata": {},
     "output_type": "execute_result"
    }
   ],
   "source": [
    "a + b # 2.0 可以直接+-*/"
   ]
  },
  {
   "cell_type": "markdown",
   "metadata": {},
   "source": [
    "# 变量"
   ]
  },
  {
   "cell_type": "code",
   "execution_count": 40,
   "metadata": {
    "ExecuteTime": {
     "end_time": "2020-11-09T08:29:33.439325Z",
     "start_time": "2020-11-09T08:29:33.431926Z"
    }
   },
   "outputs": [],
   "source": [
    "s = tf.Variable(23, name='s', dtype=tf.uint8)\n",
    "m = tf.Variable([[0,1],[1,2],[2,3]], name='matrix', dtype=tf.float32)\n",
    "w = tf.Variable(tf.zeros([10,11]))"
   ]
  },
  {
   "cell_type": "markdown",
   "metadata": {},
   "source": [
    "# 查看模型所有变量 model.variables"
   ]
  },
  {
   "cell_type": "code",
   "execution_count": 14,
   "metadata": {
    "ExecuteTime": {
     "end_time": "2020-11-09T08:18:02.208958Z",
     "start_time": "2020-11-09T08:18:02.177934Z"
    }
   },
   "outputs": [
    {
     "data": {
      "text/plain": [
       "(<tf.Variable 'Variable:0' shape=() dtype=float32, numpy=1.0>,\n",
       " <tf.Variable 'Variable:0' shape=() dtype=int32, numpy=0>,\n",
       " <tf.Variable 'Variable:0' shape=() dtype=int32, numpy=1>,\n",
       " <tf.Variable 'Variable:0' shape=() dtype=int32, numpy=2>,\n",
       " <tf.Variable 'Variable:0' shape=() dtype=int32, numpy=3>,\n",
       " <tf.Variable 'Variable:0' shape=() dtype=int32, numpy=4>,\n",
       " <tf.Variable 'Variable:0' shape=() dtype=int32, numpy=5>,\n",
       " <tf.Variable 'Variable:0' shape=() dtype=int32, numpy=6>,\n",
       " <tf.Variable 'Variable:0' shape=() dtype=int32, numpy=7>,\n",
       " <tf.Variable 'Variable:0' shape=() dtype=int32, numpy=8>,\n",
       " <tf.Variable 'Variable:0' shape=() dtype=int32, numpy=9>)"
      ]
     },
     "execution_count": 14,
     "metadata": {},
     "output_type": "execute_result"
    }
   ],
   "source": [
    "class MyModule(tf.Module):\n",
    "    def __init__(self):\n",
    "        self.v0 = tf.Variable(1.0)\n",
    "        self.vs = [tf.Variable(x) for x in range(10)]\n",
    "        \n",
    "m = MyModule()\n",
    "m.variables"
   ]
  },
  {
   "cell_type": "markdown",
   "metadata": {},
   "source": [
    "# tf.data"
   ]
  },
  {
   "cell_type": "code",
   "execution_count": 17,
   "metadata": {
    "ExecuteTime": {
     "end_time": "2020-11-09T08:20:14.595224Z",
     "start_time": "2020-11-09T08:20:14.585115Z"
    }
   },
   "outputs": [
    {
     "name": "stdout",
     "output_type": "stream",
     "text": [
      "[1 2 3 4 5]\n",
      "[1 2 3 4 5]\n"
     ]
    }
   ],
   "source": [
    "dataset = tf.data.Dataset.from_tensors([1,2,3,4,5])\n",
    "for element in dataset:\n",
    "  print(element.numpy())\n",
    "  it = iter(dataset)\n",
    "print(next(it).numpy())\n"
   ]
  },
  {
   "cell_type": "code",
   "execution_count": 25,
   "metadata": {
    "ExecuteTime": {
     "end_time": "2020-11-09T08:24:48.143413Z",
     "start_time": "2020-11-09T08:24:48.130227Z"
    }
   },
   "outputs": [
    {
     "name": "stdout",
     "output_type": "stream",
     "text": [
      "1\n",
      "2\n",
      "3\n",
      "4\n",
      "5\n",
      "1\n"
     ]
    }
   ],
   "source": [
    "dataset = tf.data.Dataset.from_tensor_slices([1,2,3,4,5])\n",
    "for element in dataset:\n",
    "  print(element.numpy())\n",
    "it = iter(dataset)\n",
    "print(next(it).numpy())"
   ]
  },
  {
   "cell_type": "code",
   "execution_count": 46,
   "metadata": {
    "ExecuteTime": {
     "end_time": "2020-11-09T08:37:23.179117Z",
     "start_time": "2020-11-09T08:37:23.165650Z"
    }
   },
   "outputs": [
    {
     "name": "stdout",
     "output_type": "stream",
     "text": [
      "(<tf.Tensor: shape=(), dtype=int32, numpy=1>, <tf.Tensor: shape=(), dtype=int32, numpy=6>)\n",
      "(<tf.Tensor: shape=(), dtype=int32, numpy=2>, <tf.Tensor: shape=(), dtype=int32, numpy=7>)\n",
      "(<tf.Tensor: shape=(), dtype=int32, numpy=3>, <tf.Tensor: shape=(), dtype=int32, numpy=8>)\n",
      "(<tf.Tensor: shape=(), dtype=int32, numpy=4>, <tf.Tensor: shape=(), dtype=int32, numpy=9>)\n",
      "(<tf.Tensor: shape=(), dtype=int32, numpy=5>, <tf.Tensor: shape=(), dtype=int32, numpy=10>)\n"
     ]
    }
   ],
   "source": [
    "features = tf.data.Dataset.from_tensor_slices([1,2,3,4,5])\n",
    "labels = tf.data.Dataset.from_tensor_slices([6,7,8,9,10])\n",
    "dataset = tf.data.Dataset.zip((features,labels))\n",
    "for element in dataset:\n",
    "  print(element)"
   ]
  },
  {
   "cell_type": "code",
   "execution_count": 48,
   "metadata": {
    "ExecuteTime": {
     "end_time": "2020-11-09T08:38:44.799475Z",
     "start_time": "2020-11-09T08:38:44.787277Z"
    }
   },
   "outputs": [
    {
     "name": "stdout",
     "output_type": "stream",
     "text": [
      "[array([0, 1, 2, 3, 4, 5, 6, 7]), array([ 0, -1, -2, -3, -4, -5, -6, -7])]\n",
      "[array([ 8,  9, 10, 11, 12, 13, 14, 15]), array([ -8,  -9, -10, -11, -12, -13, -14, -15])]\n",
      "[array([16, 17, 18, 19, 20, 21, 22, 23]), array([-16, -17, -18, -19, -20, -21, -22, -23])]\n",
      "[array([24, 25, 26, 27, 28, 29, 30, 31]), array([-24, -25, -26, -27, -28, -29, -30, -31])]\n"
     ]
    }
   ],
   "source": [
    "inc_dataset = tf.data.Dataset.range(100)   \n",
    "dec_dataset = tf.data.Dataset.range(0, -100, -1) \n",
    "# 数据集合并\n",
    "dataset = tf.data.Dataset.zip((inc_dataset, dec_dataset))\n",
    "\n",
    "\n",
    "# 比如dataset有100个数据，那么batched_dataset为4组，每组25个数据，使用dataset.take(4),可以取出4个数据\n",
    "\n",
    "batched_dataset = dataset.batch(8)  # 取前8个数据\n",
    "\n",
    "for batch in batched_dataset.take(4):\n",
    "  print([arr.numpy() for arr in batch])"
   ]
  },
  {
   "cell_type": "code",
   "execution_count": 55,
   "metadata": {
    "ExecuteTime": {
     "end_time": "2020-11-09T08:42:32.559114Z",
     "start_time": "2020-11-09T08:42:32.543694Z"
    }
   },
   "outputs": [
    {
     "name": "stdout",
     "output_type": "stream",
     "text": [
      "(<tf.Tensor: shape=(), dtype=int64, numpy=4>, <tf.Tensor: shape=(), dtype=int64, numpy=-4>)\n",
      "(<tf.Tensor: shape=(), dtype=int64, numpy=1>, <tf.Tensor: shape=(), dtype=int64, numpy=-1>)\n",
      "(<tf.Tensor: shape=(), dtype=int64, numpy=7>, <tf.Tensor: shape=(), dtype=int64, numpy=-7>)\n",
      "(<tf.Tensor: shape=(), dtype=int64, numpy=10>, <tf.Tensor: shape=(), dtype=int64, numpy=-10>)\n",
      "(<tf.Tensor: shape=(), dtype=int64, numpy=14>, <tf.Tensor: shape=(), dtype=int64, numpy=-14>)\n",
      "(<tf.Tensor: shape=(), dtype=int64, numpy=9>, <tf.Tensor: shape=(), dtype=int64, numpy=-9>)\n",
      "(<tf.Tensor: shape=(), dtype=int64, numpy=12>, <tf.Tensor: shape=(), dtype=int64, numpy=-12>)\n",
      "(<tf.Tensor: shape=(), dtype=int64, numpy=0>, <tf.Tensor: shape=(), dtype=int64, numpy=0>)\n",
      "(<tf.Tensor: shape=(), dtype=int64, numpy=15>, <tf.Tensor: shape=(), dtype=int64, numpy=-15>)\n",
      "(<tf.Tensor: shape=(), dtype=int64, numpy=18>, <tf.Tensor: shape=(), dtype=int64, numpy=-18>)\n",
      "(<tf.Tensor: shape=(), dtype=int64, numpy=5>, <tf.Tensor: shape=(), dtype=int64, numpy=-5>)\n",
      "(<tf.Tensor: shape=(), dtype=int64, numpy=17>, <tf.Tensor: shape=(), dtype=int64, numpy=-17>)\n",
      "(<tf.Tensor: shape=(), dtype=int64, numpy=19>, <tf.Tensor: shape=(), dtype=int64, numpy=-19>)\n",
      "(<tf.Tensor: shape=(), dtype=int64, numpy=8>, <tf.Tensor: shape=(), dtype=int64, numpy=-8>)\n",
      "(<tf.Tensor: shape=(), dtype=int64, numpy=23>, <tf.Tensor: shape=(), dtype=int64, numpy=-23>)\n",
      "(<tf.Tensor: shape=(), dtype=int64, numpy=16>, <tf.Tensor: shape=(), dtype=int64, numpy=-16>)\n",
      "(<tf.Tensor: shape=(), dtype=int64, numpy=26>, <tf.Tensor: shape=(), dtype=int64, numpy=-26>)\n",
      "(<tf.Tensor: shape=(), dtype=int64, numpy=24>, <tf.Tensor: shape=(), dtype=int64, numpy=-24>)\n",
      "(<tf.Tensor: shape=(), dtype=int64, numpy=6>, <tf.Tensor: shape=(), dtype=int64, numpy=-6>)\n",
      "(<tf.Tensor: shape=(), dtype=int64, numpy=25>, <tf.Tensor: shape=(), dtype=int64, numpy=-25>)\n"
     ]
    }
   ],
   "source": [
    "# 随机选取  buffer_size 杂乱程度 \n",
    "shuffle_dataset = dataset.shuffle(buffer_size=11)\n",
    "for element in shuffle_dataset.take(20):\n",
    "  print(element)\n",
    "  "
   ]
  },
  {
   "cell_type": "code",
   "execution_count": null,
   "metadata": {},
   "outputs": [],
   "source": [
    "shuffle_dataset = dataset.shuffle(buffer_size=100)\n",
    "for element in shuffle_dataset:\n",
    "  print(element)\n",
    "  "
   ]
  }
 ],
 "metadata": {
  "kernelspec": {
   "display_name": "Python 3",
   "language": "python",
   "name": "python3"
  },
  "language_info": {
   "codemirror_mode": {
    "name": "ipython",
    "version": 3
   },
   "file_extension": ".py",
   "mimetype": "text/x-python",
   "name": "python",
   "nbconvert_exporter": "python",
   "pygments_lexer": "ipython3",
   "version": "3.7.2"
  },
  "toc": {
   "base_numbering": 1,
   "nav_menu": {},
   "number_sections": true,
   "sideBar": true,
   "skip_h1_title": false,
   "title_cell": "Table of Contents",
   "title_sidebar": "Contents",
   "toc_cell": false,
   "toc_position": {},
   "toc_section_display": true,
   "toc_window_display": false
  },
  "varInspector": {
   "cols": {
    "lenName": 16,
    "lenType": 16,
    "lenVar": 40
   },
   "kernels_config": {
    "python": {
     "delete_cmd_postfix": "",
     "delete_cmd_prefix": "del ",
     "library": "var_list.py",
     "varRefreshCmd": "print(var_dic_list())"
    },
    "r": {
     "delete_cmd_postfix": ") ",
     "delete_cmd_prefix": "rm(",
     "library": "var_list.r",
     "varRefreshCmd": "cat(var_dic_list()) "
    }
   },
   "types_to_exclude": [
    "module",
    "function",
    "builtin_function_or_method",
    "instance",
    "_Feature"
   ],
   "window_display": false
  }
 },
 "nbformat": 4,
 "nbformat_minor": 4
}
