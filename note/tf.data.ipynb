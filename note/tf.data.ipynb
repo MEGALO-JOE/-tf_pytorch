{
 "cells": [
  {
   "cell_type": "markdown",
   "metadata": {},
   "source": [
    "#tf.data"
   ]
  },
  {
   "cell_type": "code",
   "execution_count": 1,
   "metadata": {
    "ExecuteTime": {
     "end_time": "2020-11-13T08:35:15.717193Z",
     "start_time": "2020-11-13T08:35:12.369440Z"
    }
   },
   "outputs": [],
   "source": [
    "import tensorflow as tf"
   ]
  },
  {
   "cell_type": "code",
   "execution_count": 2,
   "metadata": {
    "ExecuteTime": {
     "end_time": "2020-11-13T09:52:43.002944Z",
     "start_time": "2020-11-13T09:52:42.314066Z"
    }
   },
   "outputs": [
    {
     "ename": "NameError",
     "evalue": "name 'features' is not defined",
     "output_type": "error",
     "traceback": [
      "\u001b[0;31m---------------------------------------------------------------------------\u001b[0m",
      "\u001b[0;31mNameError\u001b[0m                                 Traceback (most recent call last)",
      "\u001b[0;32m<ipython-input-2-f4c2e2baceaf>\u001b[0m in \u001b[0;36m<module>\u001b[0;34m\u001b[0m\n\u001b[1;32m      7\u001b[0m \u001b[0;31m# tf.data.Iterator\u001b[0m\u001b[0;34m\u001b[0m\u001b[0;34m\u001b[0m\u001b[0;34m\u001b[0m\u001b[0m\n\u001b[1;32m      8\u001b[0m \u001b[0;31m#创建数据集\u001b[0m\u001b[0;34m\u001b[0m\u001b[0;34m\u001b[0m\u001b[0;34m\u001b[0m\u001b[0m\n\u001b[0;32m----> 9\u001b[0;31m \u001b[0mtf\u001b[0m\u001b[0;34m.\u001b[0m\u001b[0mdata\u001b[0m\u001b[0;34m.\u001b[0m\u001b[0mDataset\u001b[0m\u001b[0;34m.\u001b[0m\u001b[0mfrom_tensors\u001b[0m\u001b[0;34m(\u001b[0m\u001b[0;34m(\u001b[0m\u001b[0mfeatures\u001b[0m\u001b[0;34m,\u001b[0m \u001b[0mlabels\u001b[0m\u001b[0;34m)\u001b[0m\u001b[0;34m)\u001b[0m\u001b[0;34m\u001b[0m\u001b[0;34m\u001b[0m\u001b[0m\n\u001b[0m",
      "\u001b[0;31mNameError\u001b[0m: name 'features' is not defined"
     ]
    }
   ],
   "source": [
    "#tensorflow 数据处理\n",
    "#minist数据集进行逻辑回归\n",
    "\n",
    "#能否不用占位符（placeholder）喂数据\n",
    "# tf.data\n",
    "# tf.data.Dataset\n",
    "# tf.data.Iterator\n",
    "#创建数据集\n",
    "tf.data.Dataset.from_tensors((features, labels))"
   ]
  },
  {
   "cell_type": "code",
   "execution_count": null,
   "metadata": {},
   "outputs": [],
   "source": [
    "tf.data.Dataset.from_tensor_slices((features, labels))\n",
    "tf.data.Dataset.from_generator(gen, output_types, output_shapes)"
   ]
  },
  {
   "cell_type": "code",
   "execution_count": null,
   "metadata": {},
   "outputs": [],
   "source": [
    "tf.data.TextLineDataset(filenames)#包含多个txt文件的行\n",
    "tf.data.FixedLengthRecordDataset(filenames)#来自一个或多个二进制文件的固定长度记录的数据集\n",
    "tf.data.TFRecordDataset(filenames)#包含多个TFRecord文件的记录\n",
    "\n",
    "#迭代器\n",
    "#只迭代一次\n",
    "iterator = dataset.make_one_shot_iterator()\n",
    "#任意多次（每次循环需要重新初始化）\n",
    "iterator = dataset.make_initializable_iterator()\n",
    "\n",
    "#单次迭代程序\n",
    "import tensorflow as tf\n",
    "\n",
    "x=[1,2,3]\n",
    "y=[1,2,3]\n",
    "\n",
    "dataset=tf.data.Dataset.from_tensor_slices((x, y))\n",
    "\n",
    "iterator = dataset.make_one_shot_iterator()\n",
    "X, Y = iterator.get_next()\n",
    "\n",
    "with tf.Session() as sess:\n",
    "    print(sess.run([X, Y]))       \n",
    "    print(sess.run([X, Y]))       \n",
    "    print(sess.run([X, Y]))\n",
    "    #print(sess.run([X, Y]))第四次输出会越界\n",
    "   \n",
    "#多次迭代程序\n",
    "import tensorflow as tf\n",
    "\n",
    "x=[1,2,3]\n",
    "y=[1,2,3]\n",
    "\n",
    "dataset=tf.data.Dataset.from_tensor_slices((x, y))\n",
    "\n",
    "iterator = dataset.make_initializable_iterator()\n",
    "X, Y = iterator.get_next()\n",
    "\n",
    "with tf.Session() as sess:\n",
    "    for i in range(3): \n",
    "        sess.run(iterator.initializer) \n",
    "        try:\n",
    "            while True:\n",
    "                print(sess.run([X, Y])) \n",
    "        except tf.errors.OutOfRangeError:\n",
    "            pass\n",
    "\n",
    "#实现随机batch\n",
    "x=[1,2,3,4,5,6,7,8,9,10]\n",
    "y=[1,2,3,4,5,6,7,8,9,10]\n",
    "\n",
    "dataset=tf.data.Dataset.from_tensor_slices((x, y))\n",
    "\n",
    "dataset = dataset.repeat(5)#重复n次\n",
    "dataset = dataset.shuffle(50)#随机重排输入数据集，数值越大，混乱程度越大\n",
    "dataset = dataset.batch(5)#分成多份，每份n个\n",
    "\n",
    "iterator = dataset.make_initializable_iterator()\n",
    "X, Y = iterator.get_next()\n",
    "\n",
    "with tf.Session() as sess:\n",
    "    for i in range(1): \n",
    "        sess.run(iterator.initializer) \n",
    "        try:\n",
    "            while True:\n",
    "                print(sess.run([X, Y])) \n",
    "        except tf.errors.OutOfRangeError:\n",
    "            pass"
   ]
  }
 ],
 "metadata": {
  "kernelspec": {
   "display_name": "Python 3",
   "language": "python",
   "name": "python3"
  },
  "language_info": {
   "codemirror_mode": {
    "name": "ipython",
    "version": 3
   },
   "file_extension": ".py",
   "mimetype": "text/x-python",
   "name": "python",
   "nbconvert_exporter": "python",
   "pygments_lexer": "ipython3",
   "version": "3.7.2"
  },
  "toc": {
   "base_numbering": 1,
   "nav_menu": {},
   "number_sections": true,
   "sideBar": true,
   "skip_h1_title": false,
   "title_cell": "Table of Contents",
   "title_sidebar": "Contents",
   "toc_cell": false,
   "toc_position": {},
   "toc_section_display": true,
   "toc_window_display": false
  },
  "varInspector": {
   "cols": {
    "lenName": 16,
    "lenType": 16,
    "lenVar": 40
   },
   "kernels_config": {
    "python": {
     "delete_cmd_postfix": "",
     "delete_cmd_prefix": "del ",
     "library": "var_list.py",
     "varRefreshCmd": "print(var_dic_list())"
    },
    "r": {
     "delete_cmd_postfix": ") ",
     "delete_cmd_prefix": "rm(",
     "library": "var_list.r",
     "varRefreshCmd": "cat(var_dic_list()) "
    }
   },
   "types_to_exclude": [
    "module",
    "function",
    "builtin_function_or_method",
    "instance",
    "_Feature"
   ],
   "window_display": false
  }
 },
 "nbformat": 4,
 "nbformat_minor": 4
}
