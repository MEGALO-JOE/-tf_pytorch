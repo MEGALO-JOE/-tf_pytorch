{
 "cells": [
  {
   "cell_type": "markdown",
   "metadata": {},
   "source": [
    "#请使用三种不同接口构建如下神经网络\n",
    "    minst数据集\n",
    "    1.卷积层，5*5，输出通道：64\n",
    "    2.最大池化层，2*2\n",
    "    3.卷积层，3*3，输出通道：128\n",
    "    4.平均池化层，2*2\n",
    "    5.全连接层输出通道512\n",
    "    6.全连接层输出通道10\n",
    "    7.softmax层"
   ]
  },
  {
   "cell_type": "code",
   "execution_count": 4,
   "metadata": {
    "ExecuteTime": {
     "end_time": "2020-11-25T07:06:17.150576Z",
     "start_time": "2020-11-25T07:06:17.143080Z"
    }
   },
   "outputs": [],
   "source": [
    "#1.keras系列\n",
    "import tensorflow as tf\n",
    "import time\n",
    "from tensorflow.keras import layers"
   ]
  },
  {
   "cell_type": "code",
   "execution_count": 3,
   "metadata": {
    "ExecuteTime": {
     "end_time": "2020-11-18T07:29:34.217291Z",
     "start_time": "2020-11-18T07:29:33.862440Z"
    }
   },
   "outputs": [],
   "source": [
    "# CNN\n",
    "#读取数据\n",
    "mnist = tf.keras.datasets.mnist\n",
    "(x_train, y_train), (x_test, y_test) = mnist.load_data()"
   ]
  },
  {
   "cell_type": "code",
   "execution_count": 11,
   "metadata": {
    "ExecuteTime": {
     "end_time": "2020-11-18T07:36:17.774415Z",
     "start_time": "2020-11-18T07:36:16.821760Z"
    }
   },
   "outputs": [
    {
     "data": {
      "text/plain": [
       "(1, 28, 28)"
      ]
     },
     "execution_count": 11,
     "metadata": {},
     "output_type": "execute_result"
    }
   ],
   "source": [
    "#归一化\n",
    "x_train, x_test = x_train / 255.0, x_test / 255.0\n",
    "x_train[:1].shape"
   ]
  },
  {
   "cell_type": "code",
   "execution_count": null,
   "metadata": {},
   "outputs": [],
   "source": [
    "#模型\n",
    "#1.keras.layers中函数的每个词首字母要大写，2D要大写\n",
    "#2.MaxPool2D 和 AveragePooling2D的区别\n",
    "#3.利用keras.models.Sequential，不需要在函数中加入输入\n",
    "#4.利用keras.models.Sequential，每一层之后要加逗号\n",
    "model = tf.keras.models.Sequential([\n",
    "    tf.keras.layers.Reshape((28,28,1)), \n",
    "    tf.keras.layers.Conv2D(64, (5,5), activation=tf.keras.activations.relu), #卷基层\n",
    "    tf.keras.layers.MaxPool2D((2,2)), # 池化层\n",
    "    tf.keras.layers.Conv2D(128, (3,3), activation=tf.keras.activations.relu),\n",
    "    tf.keras.layers.AveragePooling2D((2,2)),\n",
    "    tf.keras.layers.Flatten(),\n",
    "    tf.keras.layers.Dense(512, activation=tf.keras.activations.relu),\n",
    "    tf.keras.layers.Dense(10, activation=tf.keras.activations.softmax)\n",
    "])\n",
    "\n",
    "\n",
    "#选取训练参数\n",
    "model.compile(optimizer='SGD',\n",
    "              loss='sparse_categorical_crossentropy',\n",
    "              metrics=['accuracy'])\n",
    "#训练\n",
    "now=time.time()\n",
    "model.fit(x_train, y_train, epochs=5)\n",
    "#测试\n",
    "model.evaluate(x_test, y_test)\n",
    "print(time.time()-now)\n",
    "\n",
    "#tf.nn\n",
    "from tensorflow.examples.tutorials.mnist import input_data\n",
    "import numpy as np\n",
    "import tensorflow as tf\n",
    "import time\n",
    "\n",
    "data_dir = './data/'\n",
    "mnist = input_data.read_data_sets(data_dir, one_hot=True)\n",
    " \n",
    "#每批次数据集的大小\n",
    "#5epoch=5*60000/100=3000steps\n",
    "BATCH_SIZE = 100\n",
    " \n",
    "#学习率\n",
    "LEARNING_RATE_INIT = 1e-2   \n",
    "x = tf.placeholder(tf.float32, [None, 784])\n",
    "y_ = tf.placeholder(tf.float32, [None, 10])\n",
    " \n",
    "#对输入向量x转换成图像矩阵形式\n",
    "with tf.variable_scope('reshape'):\n",
    "    x_image = tf.reshape(x, [-1, 28, 28, 1]) \n",
    "\n",
    "#模型：\n",
    "#1.需要自定义变量，初始化\n",
    "#2.重要参数不可省略\n",
    "#3.激活函数单独一层\n",
    "#卷积层1\n",
    "with tf.variable_scope('conv1'):\n",
    "    conv_1_w = tf.Variable(tf.truncated_normal([5,5,1,64], stddev=0.1))\n",
    "    conv_1_b = tf.Variable(tf.constant(0.1, shape=[64]))\n",
    "    conv_1_l = tf.nn.conv2d(x_image, conv_1_w, strides=[1,1,1,1], \n",
    "                            padding='SAME') + conv_1_b\n",
    "    conv_1_h = tf.nn.relu(conv_1_l)\n",
    "\n",
    "#池化层1\n",
    "with tf.variable_scope('pool1'):\n",
    "    pool_1_h = tf.nn.max_pool(conv_1_h, ksize=[1,2,2,1], strides=[1,2,2,1], \n",
    "                              padding='SAME')\n",
    "\n",
    "#卷积层2\n",
    "with tf.variable_scope('conv2'):\n",
    "    conv_2_w = tf.Variable(tf.truncated_normal([3,3,64,128], stddev=0.1))                     \n",
    "    conv_2_b = tf.Variable(tf.constant(0.1, shape=[128]))\n",
    "    conv_2_l = tf.nn.conv2d(pool_1_h, conv_2_w, strides=[1,1,1,1], \n",
    "                            padding='SAME') + conv_2_b\n",
    "    conv_2_h = tf.nn.relu(conv_2_l)\n",
    "\n",
    "#池化层2\n",
    "with tf.name_scope('pool2'):\n",
    "    pool_2_h = tf.nn.avg_pool(conv_2_h, ksize=[1,2,2,1], strides=[1,2,2,1], \n",
    "                              padding='SAME')\n",
    "\n",
    "#全连接层1\n",
    "with tf.name_scope('fc1'):\n",
    "    fc_1_w = tf.Variable(tf.truncated_normal([7*7*128, 512], stddev=0.1))\n",
    "    fc_1_b = tf.Variable(tf.constant(0.1, shape=[512]))\n",
    "    #全连接层的输入为向量,而池化层2的输出为7x7x128的矩阵,所以这里要将矩阵转化成一个向量\n",
    "    pool_2_h_flat = tf.reshape(pool_2_h, [-1,7*7*128])\n",
    "    fc_1_h = tf.nn.relu(tf.matmul(pool_2_h_flat, fc_1_w) + fc_1_b)\n",
    "        \n",
    "#全连接层2 And 输出层\n",
    "with tf.name_scope('fc2'):\n",
    "    fc_2_w = tf.Variable(tf.truncated_normal([512,10], stddev=0.1))\n",
    "    fc_2_b = tf.Variable(tf.constant(0.1, shape=[10]))\n",
    "    y = tf.matmul(fc_1_h, fc_2_w) + fc_2_b\n",
    "    \n",
    "#交叉熵\n",
    "cross_entropy = tf.reduce_mean(tf.nn.softmax_cross_entropy_with_logits_v2\n",
    "                               (labels=y_, logits=y))\n",
    "  \n",
    "#代价函数 \n",
    "total_loss = cross_entropy \n",
    " \n",
    "#定义优化器\n",
    "opt=tf.train.GradientDescentOptimizer(LEARNING_RATE_INIT)\n",
    "train_step = opt.minimize(total_loss)\n",
    " \n",
    "with tf.Session() as sess:\n",
    "    now = time.time()\n",
    "    init_op = tf.global_variables_initializer()\n",
    "    sess.run(init_op)\n",
    "    #训练\n",
    "    for step in range(3000):\n",
    "        batch_xs, batch_ys = mnist.train.next_batch(BATCH_SIZE)\n",
    "        _, loss = sess.run([train_step, total_loss], \n",
    "                           feed_dict={x: batch_xs, y_: batch_ys})\n",
    "        if step%600==0:\n",
    "            print(step, ':', loss) \n",
    "    \n",
    "    #预测\n",
    "    correct_prediction = tf.equal(tf.argmax(y, 1), tf.argmax(y_, 1))\n",
    "    accuracy = tf.reduce_mean(tf.cast(correct_prediction, tf.float32)) \n",
    "    test_accuracy = accuracy.eval(\n",
    "        feed_dict={x: mnist.test.images, y_: mnist.test.labels})\n",
    "    print(test_accuracy)\n",
    "    print(time.time() - now)\n",
    "    \n",
    "#3.contrib系列\n",
    "from tensorflow.examples.tutorials.mnist import input_data\n",
    "import numpy as np\n",
    "import tensorflow as tf\n",
    "import time\n",
    "\n",
    "data_dir = './data/'\n",
    "mnist = input_data.read_data_sets(data_dir, one_hot=True)\n",
    " \n",
    "#每批次数据集的大小\n",
    "#5epoch=5*60000/100=3000steps\n",
    "BATCH_SIZE = 100\n",
    " \n",
    "#学习率\n",
    "LEARNING_RATE_INIT = 1e-2   \n",
    "x = tf.placeholder(tf.float32, [None, 784])\n",
    "y_ = tf.placeholder(tf.float32, [None, 10])\n",
    "\n",
    "# 模型\n",
    "#1.注意池化层默认padding为‘valid’\n",
    "#2.默认激活函数为relu\n",
    "\n",
    "def fcn(images, is_training=True):\n",
    "        _ = tf.reshape(images, [-1,28, 28, 1]) \n",
    "        _ = tf.contrib.layers.conv2d(_, 64, (5, 5))\n",
    "        _ = tf.contrib.layers.max_pool2d(_, (2, 2), 2, 'SAME')\n",
    "        _ = tf.contrib.layers.conv2d(_, 128, (3, 3))\n",
    "        _ = tf.contrib.layers.avg_pool2d(_, (2, 2), 2, 'SAME')\n",
    "        _ = tf.reshape(_,[-1, 7*7*128])\n",
    "        _ = tf.contrib.layers.fully_connected(_, 512)\n",
    "        _ = tf.contrib.layers.fully_connected(_, 10, activation_fn=None)\n",
    "        return _\n",
    "      \n",
    "y=fcn(x)\n",
    "#交叉熵\n",
    "cross_entropy = tf.reduce_mean(tf.nn.softmax_cross_entropy_with_logits_v2\n",
    "                               (labels=y_, logits=y))\n",
    "  \n",
    "#代价函数 \n",
    "total_loss = cross_entropy \n",
    " \n",
    "#定义优化器\n",
    "opt=tf.train.GradientDescentOptimizer(LEARNING_RATE_INIT)\n",
    "train_step = opt.minimize(total_loss)\n",
    " \n",
    "\n",
    "with tf.Session() as sess:\n",
    "    now=time.time()\n",
    "    init_op = tf.global_variables_initializer()\n",
    "    sess.run(init_op)\n",
    "    #训练\n",
    "    for step in range(3000):\n",
    "        batch_xs, batch_ys = mnist.train.next_batch(BATCH_SIZE)\n",
    "        _, loss = sess.run([train_step, total_loss], \n",
    "                           feed_dict={x: batch_xs, y_: batch_ys})\n",
    "        if step%600==0:\n",
    "            print(step,':',loss) \n",
    "    \n",
    "    #预测\n",
    "    correct_prediction = tf.equal(tf.argmax(y, 1), tf.argmax(y_, 1))\n",
    "    accuracy = tf.reduce_mean(tf.cast(correct_prediction, tf.float32)) \n",
    "    test_accuracy = accuracy.eval(\n",
    "        feed_dict={x: mnist.test.images, y_: mnist.test.labels})\n",
    "    print(test_accuracy)\n",
    "    print(time.time() - now)"
   ]
  },
  {
   "cell_type": "code",
   "execution_count": 2,
   "metadata": {
    "ExecuteTime": {
     "end_time": "2020-11-25T02:20:09.215205Z",
     "start_time": "2020-11-25T02:20:09.134709Z"
    }
   },
   "outputs": [],
   "source": [
    "model = tf.keras.Sequential()"
   ]
  },
  {
   "cell_type": "code",
   "execution_count": null,
   "metadata": {},
   "outputs": [],
   "source": [
    "model.add(layer=layers.Dense())\n",
    "model.compile()"
   ]
  }
 ],
 "metadata": {
  "kernelspec": {
   "display_name": "Python 3",
   "language": "python",
   "name": "python3"
  },
  "language_info": {
   "codemirror_mode": {
    "name": "ipython",
    "version": 3
   },
   "file_extension": ".py",
   "mimetype": "text/x-python",
   "name": "python",
   "nbconvert_exporter": "python",
   "pygments_lexer": "ipython3",
   "version": "3.7.2"
  },
  "toc": {
   "base_numbering": 1,
   "nav_menu": {},
   "number_sections": true,
   "sideBar": true,
   "skip_h1_title": false,
   "title_cell": "Table of Contents",
   "title_sidebar": "Contents",
   "toc_cell": false,
   "toc_position": {},
   "toc_section_display": true,
   "toc_window_display": false
  },
  "varInspector": {
   "cols": {
    "lenName": 16,
    "lenType": 16,
    "lenVar": 40
   },
   "kernels_config": {
    "python": {
     "delete_cmd_postfix": "",
     "delete_cmd_prefix": "del ",
     "library": "var_list.py",
     "varRefreshCmd": "print(var_dic_list())"
    },
    "r": {
     "delete_cmd_postfix": ") ",
     "delete_cmd_prefix": "rm(",
     "library": "var_list.r",
     "varRefreshCmd": "cat(var_dic_list()) "
    }
   },
   "types_to_exclude": [
    "module",
    "function",
    "builtin_function_or_method",
    "instance",
    "_Feature"
   ],
   "window_display": false
  }
 },
 "nbformat": 4,
 "nbformat_minor": 4
}
