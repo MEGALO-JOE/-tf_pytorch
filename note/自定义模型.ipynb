{
 "cells": [
  {
   "cell_type": "code",
   "execution_count": 4,
   "metadata": {
    "ExecuteTime": {
     "end_time": "2020-11-24T09:18:45.845189Z",
     "start_time": "2020-11-24T09:18:45.842041Z"
    }
   },
   "outputs": [],
   "source": [
    "from tensorflow.keras import layers\n",
    "import tensorflow as tf"
   ]
  },
  {
   "cell_type": "code",
   "execution_count": 19,
   "metadata": {
    "ExecuteTime": {
     "end_time": "2020-11-24T09:42:24.879639Z",
     "start_time": "2020-11-24T09:42:24.874559Z"
    }
   },
   "outputs": [],
   "source": [
    "#自定义线性层\n",
    "class Linear(layers.Layer): \n",
    "  def __init__(self, units=32, input_dim=28):\n",
    "    super(Linear, self).__init__()\n",
    "    w_init = tf.random_normal_initializer()  #随机的符合正态分布的随机数\n",
    "    self.w = tf.Variable(initial_value=w_init(shape=(input_dim, units),dtype='float32'),trainable=False)\n",
    "    # 一起写为下\n",
    "    #self.w = self.add_weight(shape=(input_dim, units),initializer='random_normal',trainable=True)\n",
    "    b_init = tf.zeros_initializer()\n",
    "    self.b = tf.Variable(initial_value=b_init(shape=(units,),dtype='float32'),trainable=False)\n",
    "\n",
    "  def call(self, inputs): \n",
    "    return tf.matmul(inputs, self.w) + self.b"
   ]
  },
  {
   "cell_type": "code",
   "execution_count": 21,
   "metadata": {
    "ExecuteTime": {
     "end_time": "2020-11-24T09:42:31.165553Z",
     "start_time": "2020-11-24T09:42:31.157483Z"
    }
   },
   "outputs": [
    {
     "name": "stdout",
     "output_type": "stream",
     "text": [
      "<tf.Variable 'Variable:0' shape=(2, 4) dtype=float32, numpy=\n",
      "array([[-0.05198208,  0.01210876, -0.01082835, -0.01559412],\n",
      "       [-0.04202024,  0.01737851, -0.03601163, -0.00970178]],\n",
      "      dtype=float32)>\n"
     ]
    }
   ],
   "source": [
    "inputs = tf.ones((2, 2)) \n",
    "linear_layer = Linear(4, 2)\n",
    "print(linear_layer.w) \n",
    "# outputs = linear_layer(inputs)  # 这一步，底层调用了call函数\n",
    "# print(linear_layer.w)\n",
    "\n",
    "# 这边初始化后，之后生成w和b，"
   ]
  },
  {
   "cell_type": "code",
   "execution_count": 23,
   "metadata": {
    "ExecuteTime": {
     "end_time": "2020-11-24T09:44:12.239733Z",
     "start_time": "2020-11-24T09:44:12.233910Z"
    }
   },
   "outputs": [],
   "source": [
    "##########   input_dim未知  ################\n",
    "class Linear(layers.Layer):\n",
    "\n",
    "  def __init__(self, units=32):\n",
    "    super(Linear, self).__init__()\n",
    "    self.units = units\n",
    "\n",
    "  def build(self, input_shape):\n",
    "    self.w = self.add_weight(shape=(input_shape[-1], self.units),\n",
    "                             initializer='random_normal',\n",
    "                             trainable=True)\n",
    "    self.b = self.add_weight(shape=(self.units,),\n",
    "                             initializer='random_normal',\n",
    "                             trainable=True)\n",
    "\n",
    "  def call(self, inputs):\n",
    "    return tf.matmul(inputs, self.w) + self.b"
   ]
  },
  {
   "cell_type": "code",
   "execution_count": 24,
   "metadata": {
    "ExecuteTime": {
     "end_time": "2020-11-24T09:44:14.447503Z",
     "start_time": "2020-11-24T09:44:14.440034Z"
    }
   },
   "outputs": [
    {
     "name": "stdout",
     "output_type": "stream",
     "text": [
      "<tf.Variable 'linear_7/Variable:0' shape=(2, 4) dtype=float32, numpy=\n",
      "array([[ 0.04887731, -0.00444258, -0.08269116, -0.05387871],\n",
      "       [ 0.01853305,  0.06927157, -0.04344487,  0.02797734]],\n",
      "      dtype=float32)>\n"
     ]
    }
   ],
   "source": [
    "inputs = tf.ones((2, 2))\n",
    "linear_layer = Linear(4)\n",
    "outputs = linear_layer(inputs)\n",
    "print(linear_layer.w)\n",
    "\n",
    "# 这边没有调用call的话，没有初始化w和b"
   ]
  },
  {
   "cell_type": "code",
   "execution_count": 25,
   "metadata": {
    "ExecuteTime": {
     "end_time": "2020-11-24T09:48:25.393260Z",
     "start_time": "2020-11-24T09:48:25.384333Z"
    }
   },
   "outputs": [],
   "source": [
    "#模型\n",
    "class MLPBlock(layers.Layer):\n",
    "\n",
    "  def __init__(self):\n",
    "    super(MLPBlock, self).__init__()\n",
    "    self.linear_1 = Linear(32)\n",
    "    self.linear_2 = Linear(32)\n",
    "    self.linear_3 = Linear(1)\n",
    "\n",
    "  def call(self, inputs):\n",
    "    x = self.linear_1(inputs)\n",
    "    x = tf.nn.relu(x)\n",
    "    x = self.linear_2(x)\n",
    "    x = tf.nn.relu(x)\n",
    "    return self.linear_3(x)"
   ]
  },
  {
   "cell_type": "code",
   "execution_count": 30,
   "metadata": {
    "ExecuteTime": {
     "end_time": "2020-11-24T09:55:38.393947Z",
     "start_time": "2020-11-24T09:55:37.713755Z"
    }
   },
   "outputs": [
    {
     "name": "stdout",
     "output_type": "stream",
     "text": [
      "train_images shape (60000, 28, 28)\n"
     ]
    }
   ],
   "source": [
    "(train_images, train_labels), (_, _) = tf.keras.datasets.mnist.load_data()\n",
    "# train_images = train_images.reshape(train_images.shape[0], 28, 28, 1).astype('float32')\n",
    "# print(\"train_images shape\", train_images.shape)\n",
    "train_images = (train_images - 127.5) / 127.5 # 将图片标准化到 [-1, 1] 区间内\n",
    "print(\"train_images shape\", train_images.shape)\n",
    "# 批量化和打乱数据\n",
    "BUFFER_SIZE = 60000\n",
    "BATCH_SIZE = 256\n",
    "train_dataset = tf.data.Dataset.from_tensor_slices(train_images).shuffle(BUFFER_SIZE).batch(BATCH_SIZE)"
   ]
  },
  {
   "cell_type": "code",
   "execution_count": null,
   "metadata": {},
   "outputs": [],
   "source": []
  },
  {
   "cell_type": "code",
   "execution_count": 31,
   "metadata": {
    "ExecuteTime": {
     "end_time": "2020-11-24T09:55:41.188590Z",
     "start_time": "2020-11-24T09:55:40.456397Z"
    }
   },
   "outputs": [
    {
     "ename": "ValueError",
     "evalue": "too many values to unpack (expected 2)",
     "output_type": "error",
     "traceback": [
      "\u001b[0;31m---------------------------------------------------------------------------\u001b[0m",
      "\u001b[0;31mValueError\u001b[0m                                Traceback (most recent call last)",
      "\u001b[0;32m<ipython-input-31-8253ba3b7239>\u001b[0m in \u001b[0;36m<module>\u001b[0;34m\u001b[0m\n\u001b[1;32m      4\u001b[0m \u001b[0;34m\u001b[0m\u001b[0m\n\u001b[1;32m      5\u001b[0m \u001b[0;31m# train_dataset.repeat(10) # 表示该训练集复制10次\u001b[0m\u001b[0;34m\u001b[0m\u001b[0;34m\u001b[0m\u001b[0;34m\u001b[0m\u001b[0m\n\u001b[0;32m----> 6\u001b[0;31m \u001b[0;32mfor\u001b[0m \u001b[0mx_batch_train\u001b[0m\u001b[0;34m,\u001b[0m \u001b[0my_batch_train\u001b[0m \u001b[0;32min\u001b[0m \u001b[0mtrain_dataset\u001b[0m\u001b[0;34m:\u001b[0m\u001b[0;34m\u001b[0m\u001b[0;34m\u001b[0m\u001b[0m\n\u001b[0m\u001b[1;32m      7\u001b[0m   \u001b[0;31m#取一个batch\u001b[0m\u001b[0;34m\u001b[0m\u001b[0;34m\u001b[0m\u001b[0;34m\u001b[0m\u001b[0m\n\u001b[1;32m      8\u001b[0m   \u001b[0;32mwith\u001b[0m \u001b[0mtf\u001b[0m\u001b[0;34m.\u001b[0m\u001b[0mGradientTape\u001b[0m\u001b[0;34m(\u001b[0m\u001b[0;34m)\u001b[0m \u001b[0;32mas\u001b[0m \u001b[0mtape\u001b[0m\u001b[0;34m:\u001b[0m\u001b[0;34m\u001b[0m\u001b[0;34m\u001b[0m\u001b[0m\n",
      "\u001b[0;31mValueError\u001b[0m: too many values to unpack (expected 2)"
     ]
    }
   ],
   "source": [
    "#训练\n",
    "optimizer = tf.keras.optimizers.SGD(learning_rate=1e-3)\n",
    "loss_fn = tf.keras.losses.SparseCategoricalCrossentropy(from_logits=True)\n",
    "\n",
    "# train_dataset.repeat(10) # 表示该训练集复制10次\n",
    "for x_batch_train, y_batch_train in train_dataset:\n",
    "  #取一个batch\n",
    "  with tf.GradientTape() as tape:   \n",
    "    logits = layer(x_batch_train)  \n",
    "    loss_value = loss_fn(y_batch_train, logits)\n",
    "  #？为什么在with外面\n",
    "  grads = tape.gradient(loss_value, model.trainable_weights)\n",
    "  optimizer.apply_gradients(zip(grads, model.trainable_weights))"
   ]
  },
  {
   "cell_type": "code",
   "execution_count": null,
   "metadata": {},
   "outputs": [],
   "source": []
  }
 ],
 "metadata": {
  "kernelspec": {
   "display_name": "Python 3",
   "language": "python",
   "name": "python3"
  },
  "language_info": {
   "codemirror_mode": {
    "name": "ipython",
    "version": 3
   },
   "file_extension": ".py",
   "mimetype": "text/x-python",
   "name": "python",
   "nbconvert_exporter": "python",
   "pygments_lexer": "ipython3",
   "version": "3.7.2"
  },
  "toc": {
   "base_numbering": 1,
   "nav_menu": {},
   "number_sections": true,
   "sideBar": true,
   "skip_h1_title": false,
   "title_cell": "Table of Contents",
   "title_sidebar": "Contents",
   "toc_cell": false,
   "toc_position": {},
   "toc_section_display": true,
   "toc_window_display": false
  },
  "varInspector": {
   "cols": {
    "lenName": 16,
    "lenType": 16,
    "lenVar": 40
   },
   "kernels_config": {
    "python": {
     "delete_cmd_postfix": "",
     "delete_cmd_prefix": "del ",
     "library": "var_list.py",
     "varRefreshCmd": "print(var_dic_list())"
    },
    "r": {
     "delete_cmd_postfix": ") ",
     "delete_cmd_prefix": "rm(",
     "library": "var_list.r",
     "varRefreshCmd": "cat(var_dic_list()) "
    }
   },
   "types_to_exclude": [
    "module",
    "function",
    "builtin_function_or_method",
    "instance",
    "_Feature"
   ],
   "window_display": false
  }
 },
 "nbformat": 4,
 "nbformat_minor": 4
}
